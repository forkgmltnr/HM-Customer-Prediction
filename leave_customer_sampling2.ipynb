{
 "cells": [
  {
   "cell_type": "code",
   "execution_count": 2,
   "metadata": {},
   "outputs": [],
   "source": [
    "import pandas as pd\n",
    "import numpy as np\n",
    "\n",
    "df_clothes_no = pd.read_csv('./data/df_colthes_no.csv')"
   ]
  },
  {
   "cell_type": "code",
   "execution_count": 3,
   "metadata": {},
   "outputs": [
    {
     "data": {
      "text/plain": [
       "(2.0, 5.0, 11.0, 26.0, 1319.0)"
      ]
     },
     "execution_count": 3,
     "metadata": {},
     "output_type": "execute_result"
    }
   ],
   "source": [
    "customer_id_shop_count = df_clothes_no.pivot_table(index = 'customer_label',\n",
    "                                         values = 'article_id',\n",
    "                                         aggfunc='count'\n",
    "                                    \n",
    ")\n",
    "\n",
    "customer_id_shop_count.sort_values(by = 'article_id', ascending = False)\n",
    "\n",
    "Q1, Q2, Q3, Q4, Q5 = np.percentile(customer_id_shop_count.values, [20, 40, 60, 80, 100])\n",
    "Q1, Q2, Q3, Q4, Q5"
   ]
  },
  {
   "cell_type": "code",
   "execution_count": 4,
   "metadata": {},
   "outputs": [
    {
     "data": {
      "text/plain": [
       "(279796, 242458, 241167, 245132, 241678)"
      ]
     },
     "execution_count": 4,
     "metadata": {},
     "output_type": "execute_result"
    }
   ],
   "source": [
    "customer_id_1_2_shop_count = customer_id_shop_count[(customer_id_shop_count['article_id'] >= 1) & (customer_id_shop_count['article_id'] <= 2)].index\n",
    "customer_id_3_5_shop_count = customer_id_shop_count[(customer_id_shop_count['article_id'] >= 3) & (customer_id_shop_count['article_id'] <= 5)].index\n",
    "customer_id_6_11_shop_count = customer_id_shop_count[(customer_id_shop_count['article_id'] >= 6) & (customer_id_shop_count['article_id'] <= 11)].index\n",
    "customer_id_12_26_shop_count = customer_id_shop_count[(customer_id_shop_count['article_id'] >= 12) & (customer_id_shop_count['article_id'] <= 26)].index\n",
    "customer_id_27_1319_shop_count = customer_id_shop_count[(customer_id_shop_count['article_id'] >= 27) & (customer_id_shop_count['article_id'] <= 1319)].index\n",
    "len(customer_id_1_2_shop_count), len(customer_id_3_5_shop_count), len(customer_id_6_11_shop_count), len(customer_id_12_26_shop_count), len(customer_id_27_1319_shop_count)"
   ]
  },
  {
   "cell_type": "code",
   "execution_count": 5,
   "metadata": {},
   "outputs": [],
   "source": [
    "sampling_size = 48000\n",
    "\n",
    "np.random.seed(13)\n",
    "sample_customer_id_1_2 = np.random.choice(customer_id_1_2_shop_count, size = sampling_size, replace = False)\n",
    "np.random.seed(13)\n",
    "sample_customer_id_3_5 = np.random.choice(customer_id_3_5_shop_count, size = sampling_size, replace = False)\n",
    "np.random.seed(13)\n",
    "sample_customer_id_6_11 = np.random.choice(customer_id_6_11_shop_count, size = sampling_size, replace = False)\n",
    "np.random.seed(13)\n",
    "sample_customer_id_12_26 = np.random.choice(customer_id_12_26_shop_count, size = sampling_size, replace = False)\n",
    "np.random.seed(13)\n",
    "sample_customer_id_27_1319 = np.random.choice(customer_id_27_1319_shop_count, size = sampling_size, replace = False)"
   ]
  },
  {
   "cell_type": "code",
   "execution_count": 6,
   "metadata": {},
   "outputs": [],
   "source": [
    "sample_customer_df_1_2 = df_clothes_no[df_clothes_no['customer_label'].isin(sample_customer_id_1_2)]\n",
    "sample_customer_df_3_5 = df_clothes_no[df_clothes_no['customer_label'].isin(sample_customer_id_3_5)]\n",
    "sample_customer_df_6_11 = df_clothes_no[df_clothes_no['customer_label'].isin(sample_customer_id_6_11)]\n",
    "sample_customer_df_12_26 = df_clothes_no[df_clothes_no['customer_label'].isin(sample_customer_id_12_26)]\n",
    "sample_customer_df_27_1319 = df_clothes_no[df_clothes_no['customer_label'].isin(sample_customer_id_27_1319)]\n",
    "\n",
    "\n",
    "df_clothes_no_sample = pd.concat([sample_customer_df_1_2, sample_customer_df_3_5,\n",
    "                                    sample_customer_df_6_11, sample_customer_df_12_26,\n",
    "                                    sample_customer_df_27_1319])"
   ]
  },
  {
   "cell_type": "code",
   "execution_count": 7,
   "metadata": {},
   "outputs": [
    {
     "name": "stdout",
     "output_type": "stream",
     "text": [
      "<class 'pandas.core.frame.DataFrame'>\n",
      "RangeIndex: 4446162 entries, 0 to 4446161\n",
      "Data columns (total 10 columns):\n",
      " #   Column                      Dtype  \n",
      "---  ------                      -----  \n",
      " 0   t_dat                       object \n",
      " 1   customer_label              int64  \n",
      " 2   age                         float64\n",
      " 3   article_id                  int64  \n",
      " 4   price                       float64\n",
      " 5   prod_name                   object \n",
      " 6   product_type_no             int64  \n",
      " 7   graphical_appearance_no     int64  \n",
      " 8   perceived_colour_master_id  int64  \n",
      " 9   garment_group_no            int64  \n",
      "dtypes: float64(2), int64(6), object(2)\n",
      "memory usage: 339.2+ MB\n"
     ]
    }
   ],
   "source": [
    "df_clothes_no_sample.reset_index(inplace = True, drop = True)\n",
    "df_clothes_no_sample.info()"
   ]
  },
  {
   "cell_type": "code",
   "execution_count": 10,
   "metadata": {},
   "outputs": [
    {
     "name": "stdout",
     "output_type": "stream",
     "text": [
      "<class 'pandas.core.frame.DataFrame'>\n",
      "RangeIndex: 4446162 entries, 0 to 4446161\n",
      "Data columns (total 10 columns):\n",
      " #   Column                      Dtype  \n",
      "---  ------                      -----  \n",
      " 0   t_dat                       object \n",
      " 1   customer_label              int64  \n",
      " 2   age                         float64\n",
      " 3   article_id                  int64  \n",
      " 4   price                       float64\n",
      " 5   prod_name                   object \n",
      " 6   product_type_no             int64  \n",
      " 7   graphical_appearance_no     int64  \n",
      " 8   perceived_colour_master_id  int64  \n",
      " 9   garment_group_no            int64  \n",
      "dtypes: float64(2), int64(6), object(2)\n",
      "memory usage: 339.2+ MB\n"
     ]
    }
   ],
   "source": [
    "df_clothes_no_sample.sort_values(['customer_label', 't_dat'])\n",
    "df_clothes_no_sample.reset_index(inplace = True, drop = True)\n",
    "df_clothes_no_sample.info()"
   ]
  },
  {
   "cell_type": "code",
   "execution_count": 11,
   "metadata": {},
   "outputs": [],
   "source": [
    "df_clothes_no_sample.to_parquet('./data/df_clothes_no_sample.parquet.gzip')"
   ]
  },
  {
   "cell_type": "code",
   "execution_count": null,
   "metadata": {},
   "outputs": [],
   "source": []
  }
 ],
 "metadata": {
  "kernelspec": {
   "display_name": "Python 3",
   "language": "python",
   "name": "python3"
  },
  "language_info": {
   "codemirror_mode": {
    "name": "ipython",
    "version": 3
   },
   "file_extension": ".py",
   "mimetype": "text/x-python",
   "name": "python",
   "nbconvert_exporter": "python",
   "pygments_lexer": "ipython3",
   "version": "3.8.17"
  }
 },
 "nbformat": 4,
 "nbformat_minor": 2
}
